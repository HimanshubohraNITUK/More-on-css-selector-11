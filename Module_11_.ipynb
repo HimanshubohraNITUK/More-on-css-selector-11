{
  "nbformat": 4,
  "nbformat_minor": 0,
  "metadata": {
    "colab": {
      "provenance": []
    },
    "kernelspec": {
      "name": "python3",
      "display_name": "Python 3"
    },
    "language_info": {
      "name": "python"
    }
  },
  "cells": [
    {
      "cell_type": "code",
      "execution_count": null,
      "metadata": {
        "id": "fXcT4Qmv1rLu"
      },
      "outputs": [],
      "source": [
        "    Q1 - . For the given index.html file. Perform the following task, without changing the index.html file.\n"
      ]
    },
    {
      "cell_type": "code",
      "source": [
        "/* B. Combinator Selectors */\n",
        "\n",
        "/* All anchor tags inside nav */\n",
        "nav a {\n",
        "  color: red;\n",
        "}\n",
        "\n",
        "/* First h2 directly under nav */\n",
        "nav > h2 {\n",
        "  color: white;\n",
        "  background-color: black;\n",
        "}\n",
        "\n",
        "/* First <p> tag inside nav */\n",
        "nav > p:first-of-type {\n",
        "  color: red;\n",
        "}\n",
        "\n",
        "/* C. Attribute Selectors */\n",
        "\n",
        "/* Anchor tags with href */\n",
        "a[href] {\n",
        "  color: red;\n",
        "  text-decoration: none;\n",
        "}\n",
        "\n",
        "/* Anchor tag with class 'active' */\n",
        "a[class=\"active\"] {\n",
        "  color: blue;\n",
        "  text-decoration: underline;\n",
        "}\n",
        "\n",
        "/* Anchor tag with target='_self' */\n",
        "a[target=\"_self\"] {\n",
        "  background-color: yellow;\n",
        "}\n",
        "\n",
        "/* D. Pseudo Selectors */\n",
        "\n",
        "/* Add ... after the last <p> inside nav */\n",
        "nav > p:last-of-type::after {\n",
        "  content: \"...\";\n",
        "}\n",
        "\n",
        "/* Change color of bullets only */\n",
        "ul > li::marker {\n",
        "  color: green;\n",
        "}\n",
        "\n",
        "/* Style the first letter of the 2nd <p> inside nav */\n",
        "nav > p:nth-of-type(2)::first-letter {\n",
        "  color: red;\n",
        "  font-size: 30px;\n",
        "}\n"
      ],
      "metadata": {
        "id": "oOxn03Uu4kLX"
      },
      "execution_count": null,
      "outputs": []
    },
    {
      "cell_type": "markdown",
      "source": [
        "Q2 - Create a CSS file and link it to the provided HTML file below, use any of the combinator class selectors to\n",
        "style the navigation menu as follows."
      ],
      "metadata": {
        "id": "hrjiZ-2z4pOB"
      }
    },
    {
      "cell_type": "markdown",
      "source": [],
      "metadata": {
        "id": "mav3Uqde4jvj"
      }
    },
    {
      "cell_type": "code",
      "source": [
        "/* 1. Descendant combinator - remove bullets and underlines */\n",
        "nav ul {\n",
        "  list-style-type: none;\n",
        "}\n",
        "\n",
        "nav ul li a {\n",
        "  text-decoration: none;\n",
        "}\n",
        "\n",
        "/* 2. Child combinator - make menu items inline */\n",
        "nav > ul > li {\n",
        "  display: inline;\n",
        "}\n",
        "\n",
        "/* 3. Adjacent sibling combinator - add space between items */\n",
        "nav ul li + li {\n",
        "  margin-left: 20px;\n",
        "}\n"
      ],
      "metadata": {
        "id": "nsaGBKG75nRu"
      },
      "execution_count": null,
      "outputs": []
    },
    {
      "cell_type": "markdown",
      "source": [
        "Q3 - Using any of the Pseudo element selectors, add any random words after and before the given HTML tag\n"
      ],
      "metadata": {
        "id": "XGK5tCBk57Yx"
      }
    },
    {
      "cell_type": "code",
      "source": [
        "HTML\n",
        "<!DOCTYPE html>\n",
        "<html lang=\"en\">\n",
        "<head>\n",
        "  <meta charset=\"UTF-8\" />\n",
        "  <meta name=\"viewport\" content=\"width=device-width, initial-scale=1.0\" />\n",
        "  <title>Pseudo Element Example</title>\n",
        "  <link rel=\"stylesheet\" href=\"style.css\" />\n",
        "</head>\n",
        "<body>\n",
        "  <h1> element -</h1>\n",
        "</body>\n",
        "</html>\n",
        "CSS\n",
        "/* Target the h1 element and add words before and after */\n",
        "h1::before {\n",
        "  content: \"This is a heading \";\n",
        "  color: green;\n",
        "}\n",
        "\n",
        "h1::after {\n",
        "  content: \" styled using CSS!\";\n",
        "  color: blue;\n",
        "}\n"
      ],
      "metadata": {
        "id": "92sXncbR6A0I"
      },
      "execution_count": null,
      "outputs": []
    },
    {
      "cell_type": "markdown",
      "source": [
        "Q4 - Using any of the Pseudo element selectors, add any random words after and before the given HTML tag\n"
      ],
      "metadata": {
        "id": "33gaig5R6ejh"
      }
    },
    {
      "cell_type": "markdown",
      "source": [
        "HTML\n",
        "<!DOCTYPE html>\n",
        "<html lang=\"en\">\n",
        "<head>\n",
        "  <meta charset=\"UTF-8\">\n",
        "  <meta name=\"viewport\" content=\"width=device-width, initial-scale=1.0\">\n",
        "  <title>PW Skills Button</title>\n",
        "  <link rel=\"stylesheet\" href=\"styles.css\">\n",
        "</head>\n",
        "<body>\n",
        "  <button class=\"pw-button\">PW Skills</button>\n",
        "</body>\n",
        "</html>\n",
        "CSS\n",
        "body {\n",
        "  display: flex;\n",
        "  justify-content: center;\n",
        "  align-items: center;\n",
        "  height: 100vh;\n",
        "  background-color: #fff;\n",
        "}\n",
        "\n",
        "/* Button styling */\n",
        ".pw-button {\n",
        "  padding: 14px 32px;\n",
        "  background-color: #3b82f6; /* Blue */\n",
        "  color: white;\n",
        "  border: none;\n",
        "  border-radius: 12px;\n",
        "  font-size: 18px;\n",
        "  cursor: pointer;\n",
        "  transition: all 0.3s ease;\n",
        "  box-shadow: none;\n",
        "}\n",
        "\n",
        "/* Shadow on hover */\n",
        ".pw-button:hover {\n",
        "  box-shadow: 8px 8px 15px rgba(0, 0, 0, 0.3);\n",
        "}\n"
      ],
      "metadata": {
        "id": "rjk45L8061rZ"
      }
    }
  ]
}